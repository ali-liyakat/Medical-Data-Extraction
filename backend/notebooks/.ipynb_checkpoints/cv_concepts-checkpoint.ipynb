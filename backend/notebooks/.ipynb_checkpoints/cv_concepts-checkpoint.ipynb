{
 "cells": [
  {
   "cell_type": "raw",
   "id": "fd80a70a-bb6c-4e94-b0dd-b1bbca5cbfa0",
   "metadata": {},
   "source": [
    "import cv2\n",
    "from PIL import Image"
   ]
  }
 ],
 "metadata": {
  "kernelspec": {
   "display_name": "Python 3 (ipykernel)",
   "language": "python",
   "name": "python3"
  },
  "language_info": {
   "codemirror_mode": {
    "name": "ipython",
    "version": 3
   },
   "file_extension": ".py",
   "mimetype": "text/x-python",
   "name": "python",
   "nbconvert_exporter": "python",
   "pygments_lexer": "ipython3",
   "version": "3.13.2"
  }
 },
 "nbformat": 4,
 "nbformat_minor": 5
}
