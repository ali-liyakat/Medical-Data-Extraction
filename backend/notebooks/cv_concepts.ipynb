{
 "cells": [
  {
   "cell_type": "code",
   "execution_count": 1,
   "id": "bdf66c07-6bbf-43f6-b1db-e94db0df51fa",
   "metadata": {},
   "outputs": [],
   "source": [
    "import cv2\n",
    "from PIL import Image"
   ]
  },
  {
   "cell_type": "code",
   "execution_count": 7,
   "id": "81c0e976-0833-40ce-b227-c07c1b349003",
   "metadata": {},
   "outputs": [
    {
     "data": {
      "text/plain": [
       "array([[206, 206, 206, ..., 187, 186, 184],\n",
       "       [206, 206, 206, ..., 186, 185, 185],\n",
       "       [206, 206, 206, ..., 186, 185, 185],\n",
       "       ...,\n",
       "       [162, 157, 152, ..., 184, 184, 184],\n",
       "       [160, 156, 152, ..., 184, 184, 184],\n",
       "       [156, 158, 158, ..., 184, 184, 184]], shape=(857, 805), dtype=uint8)"
      ]
     },
     "execution_count": 7,
     "metadata": {},
     "output_type": "execute_result"
    }
   ],
   "source": [
    "img = cv2.imread(\"dark_image.jpg\", flags=cv2.IMREAD_GRAYSCALE)\n",
    "img"
   ]
  },
  {
   "cell_type": "code",
   "execution_count": 8,
   "id": "431420d7-57b0-4c06-8f4d-d342a0fcba0c",
   "metadata": {},
   "outputs": [],
   "source": [
    "Image.fromarray(img).show()"
   ]
  },
  {
   "cell_type": "code",
   "execution_count": 9,
   "id": "87fb797a-812c-4e79-bdb1-7e43e60536f5",
   "metadata": {},
   "outputs": [],
   "source": [
    "_, new_img = cv2.threshold(img, 150, 255, cv2.THRESH_BINARY)\n",
    "Image.fromarray(new_img).show()"
   ]
  },
  {
   "cell_type": "code",
   "execution_count": 11,
   "id": "97700134-2048-4412-9698-51b3fa8cb27e",
   "metadata": {},
   "outputs": [],
   "source": [
    "new_img = cv2.adaptiveThreshold(img, 255, cv2.ADAPTIVE_THRESH_GAUSSIAN_C, cv2.THRESH_BINARY, 61,11)\n",
    "Image.fromarray(new_img).show()"
   ]
  },
  {
   "cell_type": "code",
   "execution_count": null,
   "id": "ad4d82ed-b196-4bfc-afc1-ccb9e5511864",
   "metadata": {},
   "outputs": [],
   "source": []
  }
 ],
 "metadata": {
  "kernelspec": {
   "display_name": "Python 3 (ipykernel)",
   "language": "python",
   "name": "python3"
  },
  "language_info": {
   "codemirror_mode": {
    "name": "ipython",
    "version": 3
   },
   "file_extension": ".py",
   "mimetype": "text/x-python",
   "name": "python",
   "nbconvert_exporter": "python",
   "pygments_lexer": "ipython3",
   "version": "3.13.2"
  }
 },
 "nbformat": 4,
 "nbformat_minor": 5
}
